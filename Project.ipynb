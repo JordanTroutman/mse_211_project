{
 "cells": [
  {
   "cell_type": "markdown",
   "id": "db3eab6f-ec72-46d5-a9d8-4865fc2a1681",
   "metadata": {},
   "source": [
    "# MSE 211 MDP Project\n",
    "\n",
    "We can do the project here"
   ]
  },
  {
   "cell_type": "code",
   "execution_count": null,
   "id": "1f7a988a-f2e8-42fc-b588-8a08dcab9560",
   "metadata": {},
   "outputs": [],
   "source": [
    "import random\n",
    "from enum import Enum\n",
    "from abc import ABC, abstractmethod, abstractproperty\n",
    "import copy\n",
    "# States\n",
    "# Actions\n",
    "\n",
    "# States \n",
    "# Actions\n",
    "# Rewards\n",
    "class UpdateRule(Enum):\n",
    "    DURING_SWEEP = \"DURING SWEEP\"\n",
    "    AFTER_SWEEP = \"AFTER SWEEP\"\n",
    "\n",
    "class ValueIterator(ABC):\n",
    "    def __init__(self):\n",
    "        pass\n",
    "\n",
    "    @abstractmethod\n",
    "    def get_states(self, states, **kwargs):\n",
    "        pass\n",
    "\n",
    "    @abstractproperty\n",
    "    def update_rule(self):\n",
    "        pass\n",
    "\n",
    "    @property\n",
    "    def name(self):\n",
    "        return type(self).__name__\n",
    "\n",
    "    \n",
    "    def iterate(self, mdp, gamma, V_0):\n",
    "        V = V_0\n",
    "        V_copy = None if self.update_rule != UpdateRule.AFTER_SWEEP else copy.deepcopy(V_0)\n",
    "        \n",
    "        # If update during sweep, use the same v\n",
    "        # If not updating during sweep, store and update later\n",
    "        \n",
    "        for state in self.get_states(mdp.states):\n",
    "            costs = []\n",
    "            for action in mdp.actions(state):\n",
    "                # Immediate reward\n",
    "                state_action_cost = mdp.reward(state, action)\n",
    "                for (next_state, p) in mdp.transition(state, action):\n",
    "                    # Values based on next states\n",
    "                    state_action_cost += gamma * p * V[next_state]\n",
    "\n",
    "                costs.append(state_action_cost)\n",
    "                \n",
    "\n",
    "            new_cost = max(costs)\n",
    "            \n",
    "            if self.update_rule == UpdateRule.DURING_SWEEP:\n",
    "                V[state] = new_cost\n",
    "                \n",
    "            elif self.update_rule == UpdateRule.AFTER_SWEEP:\n",
    "                V_copy[state] = new_cost\n",
    "\n",
    "        # Return values at the end\n",
    "        if self.update_rule == UpdateRule.AFTER_SWEEP:\n",
    "            return V_copy\n",
    "        elif self.update_rule == UpdateRule.DURING_SWEEP:\n",
    "            return V\n",
    "\n",
    "\n",
    "\n",
    "class ClassicVI(ValueIterator):\n",
    "    def get_states(self, states, **kwargs):\n",
    "        return states\n",
    "\n",
    "    @property\n",
    "    def update_rule(self):\n",
    "        return UpdateRule.AFTER_SWEEP\n",
    "\n",
    "class RandomVI(ValueIterator):\n",
    "    def __init__(self, k):\n",
    "        super().__init__()\n",
    "        self.k = k\n",
    "    \n",
    "    def get_states(self, states, **kwargs):\n",
    "        return random.sample(states, self.k)\n",
    "\n",
    "    @property\n",
    "    def update_rule(self):\n",
    "        return UpdateRule.AFTER_SWEEP\n",
    "\n",
    "    @property\n",
    "    def name(self):\n",
    "        return \"{} (k={})\".format(type(self).__name__, self.k)\n",
    "\n",
    "class CyclicVI(ValueIterator):\n",
    "    def get_states(self, states, **kwargs):\n",
    "        return states\n",
    "\n",
    "    @property\n",
    "    def update_rule(self):\n",
    "        return UpdateRule.DURING_SWEEP\n",
    "\n",
    "class RandomCyclicVI(ValueIterator):\n",
    "    def get_states(self, states, **kwargs):\n",
    "        return random.sample(states)\n",
    "\n",
    "    @property\n",
    "    def update_rule(self):\n",
    "        return UpdateRule.DURING_SWEEP\n"
   ]
  },
  {
   "cell_type": "code",
   "execution_count": 48,
   "id": "32c5035a-0bb1-4634-b0f4-96786881b0fd",
   "metadata": {},
   "outputs": [
    {
     "data": {
      "image/png": "[encoded data removed]",
      "text/plain": [
       "<Figure size 640x480 with 1 Axes>"
      ]
     },
     "metadata": {},
     "output_type": "display_data"
    }
   ],
   "source": [
    "class Solver:\n",
    "    def __init__(self, iterator, mdp, gamma):\n",
    "        self.iterator = iterator\n",
    "        self.mdp = mdp\n",
    "        self.gamma = gamma\n",
    "        self.solution = None\n",
    "        self.deltas = None\n",
    "\n",
    "    def solve(self, steps=100):\n",
    "        V = { state: 0 for state in self.mdp.states}\n",
    "        deltas = []\n",
    "        for i in range(steps):\n",
    "            V_new = self.iterator.iterate(self.mdp, self.gamma, V)\n",
    "            \n",
    "            # Calculate the delta by seeing the biggest change between the two versions\n",
    "            delta = max([abs(V_new[state] - V[state]) for state in V])\n",
    "            deltas.append(delta)\n",
    "\n",
    "            V = V_new\n",
    "\n",
    "        self.solution = V\n",
    "        self.deltas = deltas\n",
    "\n",
    "\n",
    "    def plot_delta(self):\n",
    "        deltas = self.deltas\n",
    "        if deltas is not None:\n",
    "            label = self.iterator.name\n",
    "            plt.plot(deltas, label=label, alpha=0.3)\n",
    "            plt.xlabel(\"Iteration\")\n",
    "            plt.ylabel(\"Delta\")\n",
    "\n",
    "g = GridWorld(5)\n",
    "\n",
    "iterators = [CyclicVI(), ClassicVI()]#[RandomVI(k=k) for k in range(1, 26, 5)]\n",
    "\n",
    "for iterator in iterators:\n",
    "    solver = Solver(iterator, g, 0.9)\n",
    "    solver.solve(steps = 300)\n",
    "    solver.plot_delta()\n",
    "    \n",
    "plt.legend()\n",
    "plt.show()\n"
   ]
  },
  {
   "cell_type": "code",
   "execution_count": 40,
   "id": "0bf8c8ef-6281-441d-8806-4fad9a5606c2",
   "metadata": {},
   "outputs": [
    {
     "data": {
      "text/plain": [
       "<matplotlib.legend.Legend at 0x11f7b0940>"
      ]
     },
     "execution_count": 40,
     "metadata": {},
     "output_type": "execute_result"
    },
    {
     "data": {
      "image/png": "[encoded data removed]",
      "text/plain": [
       "<Figure size 640x480 with 1 Axes>"
      ]
     },
     "metadata": {},
     "output_type": "display_data"
    }
   ],
   "source": [
    "solver.plot_delta()\n",
    "plt.legend()"
   ]
  },
  {
   "cell_type": "code",
   "execution_count": 12,
   "id": "6fee9b23-1896-43f1-a9c2-a5cccb73c9c2",
   "metadata": {},
   "outputs": [
    {
     "data": {
      "text/plain": [
       "'ClassicVI'"
      ]
     },
     "execution_count": 12,
     "metadata": {},
     "output_type": "execute_result"
    }
   ],
   "source": [
    "type(iterator).__name__"
   ]
  },
  {
   "cell_type": "code",
   "execution_count": 57,
   "id": "242ae6c5-1394-408f-ad9e-ca825862638a",
   "metadata": {},
   "outputs": [
    {
     "data": {
      "text/plain": [
       "'class MDP:\\n\\n\\n    def iterate(self):\\n        # Get stored values\\n        for state in self.states:\\n            \\n            vals = []\\n            for action in state.actions:\\n                value_cost = reward(state, action) + self.gamma * self.prob * value(state, action)\\n                vals.append(value_cost)\\n\\n            value[state] = max(vals)\\n        # Update all values after state is stored\\n\\n\\n    def iterate_random_VI(self, k):\\n        states = random.sample(self.states, k)\\n\\n        for state in self.states:\\n            vals = []\\n            for action in state.actions:\\n                value_cost = reward(state, action) + self.gamma * self.prob * value(state, action)\\n                vals.append(value_cost)\\n\\n            value[state] = max(vals)\\n        # Update all values after state is stored\\n\\n\\n    def iterate_cyclic_VI(self):\\n        # Get stored values\\n        for state in self.states:\\n            \\n            vals = []\\n            for action in state.actions:\\n                value_cost = reward(state, action) + self.gamma * self.prob * value(state, action)\\n                vals.append(value_cost)\\n\\n            # Update stored values\\n            value[state] = max(vals)\\n\\n\\n    def iterate_cyclic_VI_random(self):\\n        # Get stored values\\n        for state in random.sample(self.states):\\n            \\n            vals = []\\n            for action in state.actions:\\n                value_cost = reward(state, action) + self.gamma * self.prob * value(state, action)\\n                vals.append(value_cost)\\n\\n            # Update stored values\\n            value[state] = max(vals)\\n\\n\\n'"
      ]
     },
     "execution_count": 57,
     "metadata": {},
     "output_type": "execute_result"
    }
   ],
   "source": [
    "\"\"\"\n",
    "MDPSolver:\n",
    "\n",
    "Model/MDP\n",
    "Iteration Method\n",
    "\n",
    "Iterate until end\n",
    "\n",
    "\"\"\"\n",
    "\n",
    "\"\"\"\n",
    "Iteration method:\n",
    "Classic VI,\n",
    "Random VI\n",
    "Cyclic VI,\n",
    "Random Cyclic VI\n",
    "\n",
    "All iteration methods:\n",
    "Take states, actions, rewards, gamma, initial values\n",
    "\n",
    "Ouptuts\n",
    "new values vector for each state\n",
    "\"\"\"\n",
    "\n",
    "\n",
    "\"\"\"class MDP:\n",
    "\n",
    "\n",
    "    def iterate(self):\n",
    "        # Get stored values\n",
    "        for state in self.states:\n",
    "            \n",
    "            vals = []\n",
    "            for action in state.actions:\n",
    "                value_cost = reward(state, action) + self.gamma * self.prob * value(state, action)\n",
    "                vals.append(value_cost)\n",
    "\n",
    "            value[state] = max(vals)\n",
    "        # Update all values after state is stored\n",
    "\n",
    "\n",
    "    def iterate_random_VI(self, k):\n",
    "        states = random.sample(self.states, k)\n",
    "\n",
    "        for state in self.states:\n",
    "            vals = []\n",
    "            for action in state.actions:\n",
    "                value_cost = reward(state, action) + self.gamma * self.prob * value(state, action)\n",
    "                vals.append(value_cost)\n",
    "\n",
    "            value[state] = max(vals)\n",
    "        # Update all values after state is stored\n",
    "\n",
    "\n",
    "    def iterate_cyclic_VI(self):\n",
    "        # Get stored values\n",
    "        for state in self.states:\n",
    "            \n",
    "            vals = []\n",
    "            for action in state.actions:\n",
    "                value_cost = reward(state, action) + self.gamma * self.prob * value(state, action)\n",
    "                vals.append(value_cost)\n",
    "\n",
    "            # Update stored values\n",
    "            value[state] = max(vals)\n",
    "\n",
    "\n",
    "    def iterate_cyclic_VI_random(self):\n",
    "        # Get stored values\n",
    "        for state in random.sample(self.states):\n",
    "            \n",
    "            vals = []\n",
    "            for action in state.actions:\n",
    "                value_cost = reward(state, action) + self.gamma * self.prob * value(state, action)\n",
    "                vals.append(value_cost)\n",
    "\n",
    "            # Update stored values\n",
    "            value[state] = max(vals)\n",
    "\n",
    "\n",
    "\"\"\""
   ]
  },
  {
   "cell_type": "code",
   "execution_count": null,
   "id": "cbc69748-272c-402d-99ba-601432062f80",
   "metadata": {},
   "outputs": [],
   "source": [
    "class MDP(ABC):\n",
    "    def __init__(self, states):\n",
    "        self.states = states\n",
    "\n",
    "    @abstractmethod\n",
    "    def prob(self, s, a):\n",
    "        pass\n",
    "\n",
    "    @abstractmethod\n",
    "    def reward(self, s, a):\n",
    "        pass\n",
    "\n",
    "    @abc.abstractproperty\n",
    "    def states(self):\n",
    "        pass\n",
    "\n"
   ]
  }
 ],
 "metadata": {
  "kernelspec": {
   "display_name": "Python 3 (ipykernel)",
   "language": "python",
   "name": "python3"
  },
  "language_info": {
   "codemirror_mode": {
    "name": "ipython",
    "version": 3
   },
   "file_extension": ".py",
   "mimetype": "text/x-python",
   "name": "python",
   "nbconvert_exporter": "python",
   "pygments_lexer": "ipython3",
   "version": "3.10.10"
  }
 },
 "nbformat": 4,
 "nbformat_minor": 5
}
