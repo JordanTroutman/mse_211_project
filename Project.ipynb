{
   "cells": [
      {
         "cell_type": "markdown",
         "id": "db3eab6f-ec72-46d5-a9d8-4865fc2a1681",
         "metadata": {},
         "source": [
            "# MSE 211 MDP Project\n",
            "\n",
            "We can do the project here"
         ]
      },
      {
         "cell_type": "code",
         "execution_count": 1,
         "id": "32c5035a-0bb1-4634-b0f4-96786881b0fd",
         "metadata": {},
         "outputs": [
            {
               "name": "stdout",
               "output_type": "stream",
               "text": [
                  "Game over. Winer is Player 1.\n",
                  "OX-\n",
                  "-O-\n",
                  "-XO\n",
                  "\n"
               ]
            },
            {
               "ename": "TypeError",
               "evalue": "'int' object is not subscriptable",
               "output_type": "error",
               "traceback": [
                  "\u001b[0;31m---------------------------------------------------------------------------\u001b[0m",
                  "\u001b[0;31mTypeError\u001b[0m                                 Traceback (most recent call last)",
                  "Cell \u001b[0;32mIn[1], line 12\u001b[0m\n\u001b[1;32m     10\u001b[0m \u001b[38;5;28;01mfor\u001b[39;00m iterator \u001b[38;5;129;01min\u001b[39;00m iterators:\n\u001b[1;32m     11\u001b[0m     solver \u001b[38;5;241m=\u001b[39m Solver(iterator, g, \u001b[38;5;241m0.9\u001b[39m)\n\u001b[0;32m---> 12\u001b[0m     \u001b[43msolver\u001b[49m\u001b[38;5;241;43m.\u001b[39;49m\u001b[43msolve\u001b[49m\u001b[43m(\u001b[49m\u001b[43msteps\u001b[49m\u001b[43m \u001b[49m\u001b[38;5;241;43m=\u001b[39;49m\u001b[43m \u001b[49m\u001b[38;5;241;43m300\u001b[39;49m\u001b[43m)\u001b[49m\n\u001b[1;32m     13\u001b[0m     solver\u001b[38;5;241m.\u001b[39mplot_delta()\n\u001b[1;32m     15\u001b[0m plt\u001b[38;5;241m.\u001b[39mlegend()\n",
                  "File \u001b[0;32m~/projects/mse_211_project/solver.py:121\u001b[0m, in \u001b[0;36mSolver.solve\u001b[0;34m(self, steps)\u001b[0m\n\u001b[1;32m    119\u001b[0m deltas \u001b[38;5;241m=\u001b[39m []\n\u001b[1;32m    120\u001b[0m \u001b[38;5;28;01mfor\u001b[39;00m i \u001b[38;5;129;01min\u001b[39;00m \u001b[38;5;28mrange\u001b[39m(steps):\n\u001b[0;32m--> 121\u001b[0m     V_new \u001b[38;5;241m=\u001b[39m \u001b[38;5;28;43mself\u001b[39;49m\u001b[38;5;241;43m.\u001b[39;49m\u001b[43miterator\u001b[49m\u001b[38;5;241;43m.\u001b[39;49m\u001b[43miterate\u001b[49m\u001b[43m(\u001b[49m\u001b[38;5;28;43mself\u001b[39;49m\u001b[38;5;241;43m.\u001b[39;49m\u001b[43mmdp\u001b[49m\u001b[43m,\u001b[49m\u001b[43m \u001b[49m\u001b[38;5;28;43mself\u001b[39;49m\u001b[38;5;241;43m.\u001b[39;49m\u001b[43mgamma\u001b[49m\u001b[43m,\u001b[49m\u001b[43m \u001b[49m\u001b[43mV\u001b[49m\u001b[43m)\u001b[49m\n\u001b[1;32m    123\u001b[0m     \u001b[38;5;66;03m# Calculate the delta by seeing the biggest change between the two versions\u001b[39;00m\n\u001b[1;32m    124\u001b[0m     delta \u001b[38;5;241m=\u001b[39m \u001b[38;5;28mmax\u001b[39m([\u001b[38;5;28mabs\u001b[39m(V_new[state] \u001b[38;5;241m-\u001b[39m V[state]) \u001b[38;5;28;01mfor\u001b[39;00m state \u001b[38;5;129;01min\u001b[39;00m V])\n",
                  "File \u001b[0;32m~/projects/mse_211_project/solver.py:43\u001b[0m, in \u001b[0;36mValueIterator.iterate\u001b[0;34m(self, mdp, gamma, V_0)\u001b[0m\n\u001b[1;32m     40\u001b[0m costs \u001b[38;5;241m=\u001b[39m []\n\u001b[1;32m     41\u001b[0m \u001b[38;5;28;01mfor\u001b[39;00m action \u001b[38;5;129;01min\u001b[39;00m mdp\u001b[38;5;241m.\u001b[39mactions:\n\u001b[1;32m     42\u001b[0m     \u001b[38;5;66;03m# Immediate reward\u001b[39;00m\n\u001b[0;32m---> 43\u001b[0m     state_action_cost \u001b[38;5;241m=\u001b[39m \u001b[43mmdp\u001b[49m\u001b[38;5;241;43m.\u001b[39;49m\u001b[43mrewards\u001b[49m\u001b[43m(\u001b[49m\u001b[43mstate\u001b[49m\u001b[43m,\u001b[49m\u001b[43m \u001b[49m\u001b[43maction\u001b[49m\u001b[43m)\u001b[49m\n\u001b[1;32m     44\u001b[0m     \u001b[38;5;28;01mfor\u001b[39;00m (next_state, p) \u001b[38;5;129;01min\u001b[39;00m mdp\u001b[38;5;241m.\u001b[39mtransitions(state, action):\n\u001b[1;32m     45\u001b[0m         \u001b[38;5;66;03m# Values based on next states\u001b[39;00m\n\u001b[1;32m     46\u001b[0m         state_action_cost \u001b[38;5;241m+\u001b[39m\u001b[38;5;241m=\u001b[39m gamma \u001b[38;5;241m*\u001b[39m p \u001b[38;5;241m*\u001b[39m V[next_state]\n",
                  "File \u001b[0;32m~/projects/mse_211_project/game.py:7\u001b[0m, in \u001b[0;36mGame.rewards\u001b[0;34m(self, state, action)\u001b[0m\n\u001b[1;32m      6\u001b[0m \u001b[38;5;28;01mdef\u001b[39;00m \u001b[38;5;21mrewards\u001b[39m(\u001b[38;5;28mself\u001b[39m, state, action):\n\u001b[0;32m----> 7\u001b[0m     \u001b[38;5;28;01mreturn\u001b[39;00m \u001b[38;5;28;43mself\u001b[39;49m\u001b[38;5;241;43m.\u001b[39;49m\u001b[43m_rewards\u001b[49m\u001b[43m[\u001b[49m\u001b[43mstate\u001b[49m\u001b[43m]\u001b[49m\u001b[43m[\u001b[49m\u001b[43maction\u001b[49m\u001b[43m]\u001b[49m\n",
                  "\u001b[0;31mTypeError\u001b[0m: 'int' object is not subscriptable"
               ]
            }
         ],
         "source": [
            "from solver import Solver, CyclicVI, ClassicVI\n",
            "from game import SimpleGame\n",
            "\n",
            "# g = GridWorld(5)\n",
            "g = SimpleGame()\n",
            "\n",
            "\n",
            "iterators = [CyclicVI(), ClassicVI()]#[RandomVI(k=k) for k in range(1, 26, 5)]\n",
            "\n",
            "for iterator in iterators:\n",
            "    solver = Solver(iterator, g, 0.9)\n",
            "    solver.solve(steps = 300)\n",
            "    solver.plot_delta()\n",
            "\n",
            "plt.legend()\n",
            "plt.show()"
         ]
      },
      {
         "cell_type": "code",
         "execution_count": 40,
         "id": "0bf8c8ef-6281-441d-8806-4fad9a5606c2",
         "metadata": {},
         "outputs": [
            {
               "data": {
                  "text/plain": [
                     "<matplotlib.legend.Legend at 0x11f7b0940>"
                  ]
               },
               "execution_count": 40,
               "metadata": {},
               "output_type": "execute_result"
            },
            {
               "data": {
                  "image/png": "[encoded data removed]",
                  "text/plain": [
                     "<Figure size 640x480 with 1 Axes>"
                  ]
               },
               "metadata": {},
               "output_type": "display_data"
            }
         ],
         "source": [
            "solver.plot_delta()\n",
            "plt.legend()"
         ]
      },
      {
         "cell_type": "code",
         "execution_count": 12,
         "id": "6fee9b23-1896-43f1-a9c2-a5cccb73c9c2",
         "metadata": {},
         "outputs": [
            {
               "data": {
                  "text/plain": [
                     "'ClassicVI'"
                  ]
               },
               "execution_count": 12,
               "metadata": {},
               "output_type": "execute_result"
            }
         ],
         "source": [
            "type(iterator).__name__"
         ]
      },
      {
         "cell_type": "code",
         "execution_count": 57,
         "id": "242ae6c5-1394-408f-ad9e-ca825862638a",
         "metadata": {},
         "outputs": [
            {
               "data": {
                  "text/plain": [
                     "'class MDP:\\n\\n\\n    def iterate(self):\\n        # Get stored values\\n        for state in self.states:\\n            \\n            vals = []\\n            for action in state.actions:\\n                value_cost = reward(state, action) + self.gamma * self.prob * value(state, action)\\n                vals.append(value_cost)\\n\\n            value[state] = max(vals)\\n        # Update all values after state is stored\\n\\n\\n    def iterate_random_VI(self, k):\\n        states = random.sample(self.states, k)\\n\\n        for state in self.states:\\n            vals = []\\n            for action in state.actions:\\n                value_cost = reward(state, action) + self.gamma * self.prob * value(state, action)\\n                vals.append(value_cost)\\n\\n            value[state] = max(vals)\\n        # Update all values after state is stored\\n\\n\\n    def iterate_cyclic_VI(self):\\n        # Get stored values\\n        for state in self.states:\\n            \\n            vals = []\\n            for action in state.actions:\\n                value_cost = reward(state, action) + self.gamma * self.prob * value(state, action)\\n                vals.append(value_cost)\\n\\n            # Update stored values\\n            value[state] = max(vals)\\n\\n\\n    def iterate_cyclic_VI_random(self):\\n        # Get stored values\\n        for state in random.sample(self.states):\\n            \\n            vals = []\\n            for action in state.actions:\\n                value_cost = reward(state, action) + self.gamma * self.prob * value(state, action)\\n                vals.append(value_cost)\\n\\n            # Update stored values\\n            value[state] = max(vals)\\n\\n\\n'"
                  ]
               },
               "execution_count": 57,
               "metadata": {},
               "output_type": "execute_result"
            }
         ],
         "source": [
            "\"\"\"\n",
            "MDPSolver:\n",
            "\n",
            "Model/MDP\n",
            "Iteration Method\n",
            "\n",
            "Iterate until end\n",
            "\n",
            "\"\"\"\n",
            "\n",
            "\"\"\"\n",
            "Iteration method:\n",
            "Classic VI,\n",
            "Random VI\n",
            "Cyclic VI,\n",
            "Random Cyclic VI\n",
            "\n",
            "All iteration methods:\n",
            "Take states, actions, rewards, gamma, initial values\n",
            "\n",
            "Ouptuts\n",
            "new values vector for each state\n",
            "\"\"\"\n",
            "\n",
            "\n",
            "\"\"\"class MDP:\n",
            "\n",
            "\n",
            "    def iterate(self):\n",
            "        # Get stored values\n",
            "        for state in self.states:\n",
            "            \n",
            "            vals = []\n",
            "            for action in state.actions:\n",
            "                value_cost = reward(state, action) + self.gamma * self.prob * value(state, action)\n",
            "                vals.append(value_cost)\n",
            "\n",
            "            value[state] = max(vals)\n",
            "        # Update all values after state is stored\n",
            "\n",
            "\n",
            "    def iterate_random_VI(self, k):\n",
            "        states = random.sample(self.states, k)\n",
            "\n",
            "        for state in self.states:\n",
            "            vals = []\n",
            "            for action in state.actions:\n",
            "                value_cost = reward(state, action) + self.gamma * self.prob * value(state, action)\n",
            "                vals.append(value_cost)\n",
            "\n",
            "            value[state] = max(vals)\n",
            "        # Update all values after state is stored\n",
            "\n",
            "\n",
            "    def iterate_cyclic_VI(self):\n",
            "        # Get stored values\n",
            "        for state in self.states:\n",
            "            \n",
            "            vals = []\n",
            "            for action in state.actions:\n",
            "                value_cost = reward(state, action) + self.gamma * self.prob * value(state, action)\n",
            "                vals.append(value_cost)\n",
            "\n",
            "            # Update stored values\n",
            "            value[state] = max(vals)\n",
            "\n",
            "\n",
            "    def iterate_cyclic_VI_random(self):\n",
            "        # Get stored values\n",
            "        for state in random.sample(self.states):\n",
            "            \n",
            "            vals = []\n",
            "            for action in state.actions:\n",
            "                value_cost = reward(state, action) + self.gamma * self.prob * value(state, action)\n",
            "                vals.append(value_cost)\n",
            "\n",
            "            # Update stored values\n",
            "            value[state] = max(vals)\n",
            "\n",
            "\n",
            "\"\"\""
         ]
      },
      {
         "cell_type": "code",
         "execution_count": null,
         "id": "cbc69748-272c-402d-99ba-601432062f80",
         "metadata": {},
         "outputs": [],
         "source": [
            "class MDP(ABC):\n",
            "    def __init__(self, states):\n",
            "        self.states = states\n",
            "\n",
            "    @abstractmethod\n",
            "    def prob(self, s, a):\n",
            "        pass\n",
            "\n",
            "    @abstractmethod\n",
            "    def reward(self, s, a):\n",
            "        pass\n",
            "\n",
            "    @abc.abstractproperty\n",
            "    def states(self):\n",
            "        pass\n",
            "\n"
         ]
      }
   ],
   "metadata": {
      "kernelspec": {
         "display_name": "Python 3 (ipykernel)",
         "language": "python",
         "name": "python3"
      },
      "language_info": {
         "codemirror_mode": {
            "name": "ipython",
            "version": 3
         },
         "file_extension": ".py",
         "mimetype": "text/x-python",
         "name": "python",
         "nbconvert_exporter": "python",
         "pygments_lexer": "ipython3",
         "version": "3.9.6"
      }
   },
   "nbformat": 4,
   "nbformat_minor": 5
}