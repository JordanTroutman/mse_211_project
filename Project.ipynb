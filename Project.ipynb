{
 "cells": [
  {
   "cell_type": "markdown",
   "id": "db3eab6f-ec72-46d5-a9d8-4865fc2a1681",
   "metadata": {},
   "source": [
    "# MSE 211 MDP Project\n",
    "\n",
    "We can do the project here"
   ]
  },
  {
   "cell_type": "code",
   "execution_count": null,
   "id": "40e609e9-1cf2-4f88-b268-97e2a064cc6e",
   "metadata": {},
   "outputs": [],
   "source": []
  }
 ],
 "metadata": {
  "kernelspec": {
   "display_name": "Python 3 (ipykernel)",
   "language": "python",
   "name": "python3"
  },
  "language_info": {
   "codemirror_mode": {
    "name": "ipython",
    "version": 3
   },
   "file_extension": ".py",
   "mimetype": "text/x-python",
   "name": "python",
   "nbconvert_exporter": "python",
   "pygments_lexer": "ipython3",
   "version": "3.9.6"
  }
 },
 "nbformat": 4,
 "nbformat_minor": 5
}
